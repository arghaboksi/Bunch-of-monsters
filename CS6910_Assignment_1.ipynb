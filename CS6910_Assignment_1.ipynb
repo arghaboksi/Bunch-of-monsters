{
  "cells": [
    {
      "cell_type": "markdown",
      "metadata": {
        "id": "view-in-github",
        "colab_type": "text"
      },
      "source": [
        "<a href=\"https://colab.research.google.com/github/arghaboksi/Bunch-of-monsters/blob/master/CS6910_Assignment_1.ipynb\" target=\"_parent\"><img src=\"https://colab.research.google.com/assets/colab-badge.svg\" alt=\"Open In Colab\"/></a>"
      ]
    },
    {
      "cell_type": "code",
      "execution_count": 1,
      "metadata": {
        "colab": {
          "base_uri": "https://localhost:8080/"
        },
        "id": "pKw7qB84jovo",
        "outputId": "f1f79ca8-ff61-43c8-b2c8-7ea2dbecb29d"
      },
      "outputs": [
        {
          "output_type": "stream",
          "name": "stdout",
          "text": [
            "\u001b[K     |████████████████████████████████| 1.7 MB 5.1 MB/s \n",
            "\u001b[K     |████████████████████████████████| 180 kB 45.3 MB/s \n",
            "\u001b[K     |████████████████████████████████| 143 kB 43.7 MB/s \n",
            "\u001b[K     |████████████████████████████████| 63 kB 1.4 MB/s \n",
            "\u001b[?25h  Building wheel for pathtools (setup.py) ... \u001b[?25l\u001b[?25hdone\n"
          ]
        }
      ],
      "source": [
        "!pip install wandb -qqq\n",
        "import wandb"
      ]
    },
    {
      "cell_type": "code",
      "execution_count": 2,
      "metadata": {
        "id": "YpBvjy3klblh"
      },
      "outputs": [],
      "source": [
        "from tensorflow import keras\n",
        "import numpy as np\n",
        "import matplotlib.pyplot as plt\n",
        "from tensorflow.keras.utils import to_categorical"
      ]
    },
    {
      "cell_type": "code",
      "execution_count": null,
      "metadata": {
        "id": "XeE92hHckmmU"
      },
      "outputs": [],
      "source": [
        "#wandb.login()"
      ]
    },
    {
      "cell_type": "code",
      "execution_count": 3,
      "metadata": {
        "id": "t1Spjb5Hk19V"
      },
      "outputs": [],
      "source": [
        "#fashion mnist data \n",
        "fashion_mnist = keras.datasets.fashion_mnist"
      ]
    },
    {
      "cell_type": "code",
      "execution_count": 4,
      "metadata": {
        "colab": {
          "base_uri": "https://localhost:8080/"
        },
        "id": "ItqABFpFmoZP",
        "outputId": "6a0813d8-36be-4021-f943-c59cb7e30ae6"
      },
      "outputs": [
        {
          "output_type": "stream",
          "name": "stdout",
          "text": [
            "Downloading data from https://storage.googleapis.com/tensorflow/tf-keras-datasets/train-labels-idx1-ubyte.gz\n",
            "32768/29515 [=================================] - 0s 0us/step\n",
            "40960/29515 [=========================================] - 0s 0us/step\n",
            "Downloading data from https://storage.googleapis.com/tensorflow/tf-keras-datasets/train-images-idx3-ubyte.gz\n",
            "26427392/26421880 [==============================] - 0s 0us/step\n",
            "26435584/26421880 [==============================] - 0s 0us/step\n",
            "Downloading data from https://storage.googleapis.com/tensorflow/tf-keras-datasets/t10k-labels-idx1-ubyte.gz\n",
            "16384/5148 [===============================================================================================] - 0s 0us/step\n",
            "Downloading data from https://storage.googleapis.com/tensorflow/tf-keras-datasets/t10k-images-idx3-ubyte.gz\n",
            "4423680/4422102 [==============================] - 0s 0us/step\n",
            "4431872/4422102 [==============================] - 0s 0us/step\n"
          ]
        }
      ],
      "source": [
        "#training data and test data\n",
        "(training_images, training_labels), (test_images, test_labels) = fashion_mnist.load_data()"
      ]
    },
    {
      "cell_type": "code",
      "execution_count": 5,
      "metadata": {
        "colab": {
          "base_uri": "https://localhost:8080/"
        },
        "id": "7MdcUHBsnWAj",
        "outputId": "561cd2b1-f65f-4874-d106-bb5b7384fbb5"
      },
      "outputs": [
        {
          "output_type": "stream",
          "name": "stdout",
          "text": [
            "(60000, 28, 28)\n",
            "(60000,)\n",
            "(10000, 28, 28)\n",
            "(10000,)\n"
          ]
        }
      ],
      "source": [
        "print(training_images.shape)     #60k training images\n",
        "print(training_labels.shape)     \n",
        "print(test_images.shape)         #10k test images\n",
        "print(test_labels.shape)"
      ]
    },
    {
      "cell_type": "code",
      "execution_count": 6,
      "metadata": {
        "colab": {
          "base_uri": "https://localhost:8080/"
        },
        "id": "dHER_zRnbZSU",
        "outputId": "6763c818-d7b4-4a29-9eff-f5015a8782f0"
      },
      "outputs": [
        {
          "output_type": "stream",
          "name": "stdout",
          "text": [
            "(784, 60000)\n",
            "(784, 10000)\n",
            "train data shape :  (784, 60000)\n",
            "test data shape :  (784, 10000)\n"
          ]
        }
      ],
      "source": [
        "#Flattening the training and test examples\n",
        "#Each column is a flattened image\n",
        "training_images_flatten = training_images.reshape(training_images.shape[0], -1).T\n",
        "print(training_images_flatten.shape)\n",
        "test_images_flatten = test_images.reshape(test_images.shape[0], -1).T\n",
        "print(test_images_flatten.shape)\n",
        "\n",
        "# Standardize data\n",
        "train_data = training_images_flatten/255\n",
        "test_data = test_images_flatten/255\n",
        "print(\"train data shape : \", train_data.shape)\n",
        "print(\"test data shape : \", test_data.shape)"
      ]
    },
    {
      "cell_type": "code",
      "execution_count": 7,
      "metadata": {
        "colab": {
          "base_uri": "https://localhost:8080/"
        },
        "id": "iP1kTk8atVgN",
        "outputId": "d5ba9865-4f64-4334-e279-2759d5b36a02"
      },
      "outputs": [
        {
          "output_type": "stream",
          "name": "stdout",
          "text": [
            "(10, 60000)\n",
            "(10, 10000)\n"
          ]
        }
      ],
      "source": [
        "#One hot Encoding for labels\n",
        "train_labels = np.transpose(to_categorical(training_labels))\n",
        "testing_labels = np.transpose(to_categorical(test_labels))\n",
        "print(train_labels.shape)\n",
        "print(testing_labels.shape)"
      ]
    },
    {
      "cell_type": "code",
      "execution_count": null,
      "metadata": {
        "colab": {
          "base_uri": "https://localhost:8080/",
          "height": 299
        },
        "id": "VKka5Kd1EEE2",
        "outputId": "9b0aeb44-f535-4c3d-b5ba-efc1fab13a43"
      },
      "outputs": [
        {
          "output_type": "stream",
          "name": "stdout",
          "text": [
            "[0. 0. 0. 0. 1. 0. 0. 0. 0. 0.]\n",
            "4\n"
          ]
        },
        {
          "output_type": "display_data",
          "data": {
            "image/png": "[encoded data removed]",
            "text/plain": [
              "<Figure size 432x288 with 1 Axes>"
            ]
          },
          "metadata": {
            "needs_background": "light"
          }
        }
      ],
      "source": [
        "print(train_labels[:, 205])\n",
        "plt.imshow(training_images[205])\n",
        "print(test_labels[205])"
      ]
    },
    {
      "cell_type": "code",
      "execution_count": null,
      "metadata": {
        "colab": {
          "base_uri": "https://localhost:8080/",
          "height": 282
        },
        "id": "ZpxEJ_2AFYML",
        "outputId": "cfae6866-75c4-402b-a662-1c137d3e7801"
      },
      "outputs": [
        {
          "output_type": "execute_result",
          "data": {
            "text/plain": [
              "<matplotlib.image.AxesImage at 0x7f7251403150>"
            ]
          },
          "metadata": {},
          "execution_count": 10
        },
        {
          "output_type": "display_data",
          "data": {
            "image/png": "[encoded data removed]",
            "text/plain": [
              "<Figure size 432x288 with 1 Axes>"
            ]
          },
          "metadata": {
            "needs_background": "light"
          }
        }
      ],
      "source": [
        "plt.imshow(training_images_flatten[:, 205].reshape(28,28))"
      ]
    },
    {
      "cell_type": "code",
      "execution_count": 8,
      "metadata": {
        "colab": {
          "base_uri": "https://localhost:8080/",
          "height": 254
        },
        "id": "7ZpHJNoCnsRO",
        "outputId": "338f514f-d9d6-411c-de72-e9b30ba5bb0d"
      },
      "outputs": [
        {
          "output_type": "stream",
          "name": "stdout",
          "text": [
            "0\n",
            "1\n",
            "2\n",
            "3\n",
            "4\n",
            "5\n",
            "6\n",
            "7\n",
            "8\n",
            "9\n"
          ]
        },
        {
          "output_type": "display_data",
          "data": {
            "image/png": "[encoded data removed]",
            "text/plain": [
              "<Figure size 432x288 with 10 Axes>"
            ]
          },
          "metadata": {
            "needs_background": "light"
          }
        }
      ],
      "source": [
        "# Question 1\n",
        "labels = [0,1,2,3,4,5,6,7,8,9]\n",
        "for k in labels:\n",
        "    for j in range(len(training_labels)):\n",
        "        if k == training_labels[j]:\n",
        "            plt.subplot(1,10,k+1)\n",
        "            plt.imshow(training_images[j])\n",
        "            print(training_labels[j])\n",
        "            break "
      ]
    },
    {
      "cell_type": "code",
      "execution_count": 9,
      "metadata": {
        "id": "gURGD8pMdefp"
      },
      "outputs": [],
      "source": [
        "# L : a list containing no. of neurons in different layers, L = [4,4,2] means 4 input neurons, one hidden layer with 4 neurons, 2 output neurons\n",
        "# params : a dictionary containing weights and biases of different layers\n",
        "def parameter_initialise(L):\n",
        "    no_of_layers = len(L)\n",
        "    params = {}\n",
        "    for i in range(1, no_of_layers):\n",
        "        params['W' + str(i)] = np.random.randn(L[i], L[i-1]) * 0.01\n",
        "        params['b' + str(i)] = np.zeros((L[i], 1))\n",
        "    return params"
      ]
    },
    {
      "cell_type": "code",
      "execution_count": 12,
      "metadata": {
        "id": "oIZzuGkFj18g"
      },
      "outputs": [],
      "source": [
        "parameters = parameter_initialise([2,2,2,2])"
      ]
    },
    {
      "cell_type": "code",
      "execution_count": 13,
      "metadata": {
        "colab": {
          "base_uri": "https://localhost:8080/"
        },
        "id": "P2eHlhfbvgOw",
        "outputId": "0aede8eb-50c0-4681-d7d7-685f4611b51a"
      },
      "outputs": [
        {
          "output_type": "stream",
          "name": "stdout",
          "text": [
            "{'W1': array([[ 0.00923845,  0.00561889],\n",
            "       [-0.0045    , -0.01296   ]]), 'b1': array([[0.],\n",
            "       [0.]]), 'W2': array([[0.00963643, 0.01288594],\n",
            "       [0.01193543, 0.01284223]]), 'b2': array([[0.],\n",
            "       [0.]]), 'W3': array([[-0.00438682,  0.00818998],\n",
            "       [-0.00584567,  0.0124887 ]]), 'b3': array([[0.],\n",
            "       [0.]])}\n",
            "(2, 2)\n",
            "(2, 1)\n",
            "(2, 2)\n",
            "(2, 1)\n"
          ]
        }
      ],
      "source": [
        "print(parameters)\n",
        "print(np.shape(parameters['W1']))\n",
        "print(np.shape(parameters['b1']))\n",
        "print(np.shape(parameters['W2']))\n",
        "print(np.shape(parameters['b2']))"
      ]
    },
    {
      "cell_type": "code",
      "execution_count": 20,
      "metadata": {
        "id": "q6jn2XQhrvgu"
      },
      "outputs": [],
      "source": [
        "# Linear Computation of a layer\n",
        "def linear_computation_of_a_layer(activations_prev_layer, weights_of_current_layer, biases_of_current_layer):\n",
        "    preactivation = np.dot(weights_of_current_layer, activations_prev_layer) + biases_of_current_layer\n",
        "    return preactivation"
      ]
    },
    {
      "cell_type": "code",
      "execution_count": 13,
      "metadata": {
        "id": "6WQUbtlu1gxd"
      },
      "outputs": [],
      "source": [
        "# Relu activation function\n",
        "def relu(v):\n",
        "    return np.maximum(0,v)"
      ]
    },
    {
      "cell_type": "code",
      "execution_count": 15,
      "metadata": {
        "colab": {
          "base_uri": "https://localhost:8080/"
        },
        "id": "KPfRgWhs2ZZT",
        "outputId": "0741c8db-6cd8-4655-8bc9-b59edf1c6c08"
      },
      "outputs": [
        {
          "output_type": "execute_result",
          "data": {
            "text/plain": [
              "array([[0.],\n",
              "       [3.],\n",
              "       [0.],\n",
              "       [0.]])"
            ]
          },
          "metadata": {},
          "execution_count": 15
        }
      ],
      "source": [
        "relu(np.array([[-0.5],[3], [0], [-5]]))"
      ]
    },
    {
      "cell_type": "code",
      "execution_count": 14,
      "metadata": {
        "id": "GIlH6kHg16X_"
      },
      "outputs": [],
      "source": [
        "# Sigmoid activation function\n",
        "def sigmoid(v):\n",
        "    return 1/(1+np.exp(-v))"
      ]
    },
    {
      "cell_type": "code",
      "execution_count": null,
      "metadata": {
        "colab": {
          "base_uri": "https://localhost:8080/"
        },
        "id": "myDyYch02tB_",
        "outputId": "520b4ae3-5203-4e42-d9d0-3f8ad5872251"
      },
      "outputs": [
        {
          "output_type": "execute_result",
          "data": {
            "text/plain": [
              "array([[0.5],\n",
              "       [0.5],\n",
              "       [0.5],\n",
              "       [0.5]])"
            ]
          },
          "metadata": {},
          "execution_count": 18
        }
      ],
      "source": [
        "sigmoid(np.zeros((4,1)))"
      ]
    },
    {
      "cell_type": "code",
      "execution_count": 15,
      "metadata": {
        "id": "3bEOCSBHeadY"
      },
      "outputs": [],
      "source": [
        "def softmax(vector):\n",
        "\te = np.exp(vector)\n",
        "\treturn e / e.sum()"
      ]
    },
    {
      "cell_type": "code",
      "execution_count": 17,
      "metadata": {
        "colab": {
          "base_uri": "https://localhost:8080/"
        },
        "id": "7IRHX9QJekeu",
        "outputId": "d9312a03-49a8-4974-b8e9-7c3bdd8e4cbe"
      },
      "outputs": [
        {
          "output_type": "execute_result",
          "data": {
            "text/plain": [
              "array([[0.09003057],\n",
              "       [0.66524096],\n",
              "       [0.24472847]])"
            ]
          },
          "metadata": {},
          "execution_count": 17
        }
      ],
      "source": [
        "softmax(np.array([[1], [3], [2]]))"
      ]
    },
    {
      "cell_type": "code",
      "source": [
        "softmax(np.array([[-0.080567926], [0.029642017], [0.197543229]]))"
      ],
      "metadata": {
        "colab": {
          "base_uri": "https://localhost:8080/"
        },
        "id": "gZGIg1LFSEip",
        "outputId": "3b07dbce-13ae-41e3-9046-41f5922ff751"
      },
      "execution_count": 25,
      "outputs": [
        {
          "output_type": "execute_result",
          "data": {
            "text/plain": [
              "array([[0.2909391 ],\n",
              "       [0.32483713],\n",
              "       [0.38422377]])"
            ]
          },
          "metadata": {},
          "execution_count": 25
        }
      ]
    },
    {
      "cell_type": "code",
      "execution_count": 28,
      "metadata": {
        "id": "Ut4nmoFa0P3e"
      },
      "outputs": [],
      "source": [
        "# activation of a layer\n",
        "def activation_of_a_layer(activations_prev_layer, weights_of_current_layer, biases_of_current_layer):\n",
        "    preactivation = linear_computation_of_a_layer(activations_prev_layer, weights_of_current_layer, biases_of_current_layer)\n",
        "    activation = sigmoid(preactivation)\n",
        "    return preactivation, activation"
      ]
    },
    {
      "cell_type": "code",
      "execution_count": 40,
      "metadata": {
        "id": "HCkCvNxIQ_Og"
      },
      "outputs": [],
      "source": [
        "# Forward propagation for a single training example\n",
        "def forward_propagation(input_vector, parameters):\n",
        "    activation_preactivation_dictionary = {}\n",
        "    activation = input_vector\n",
        "    L = len(parameters)//2     \n",
        "    for i in range(1, L):      #calculates activation of L-1 layers\n",
        "        A_temp = activation\n",
        "        preactivation, activation = activation_of_a_layer(A_temp, parameters['W'+str(i)], parameters['b'+str(i)])\n",
        "        activation_preactivation_dictionary['a'+str(i)] = preactivation\n",
        "        activation_preactivation_dictionary['h'+str(i)] = activation\n",
        "    #Output layer is softmax, need to write the softmax code here\n",
        "    preactivation = linear_computation_of_a_layer(activation, parameters['W'+str(L)], parameters['b'+str(L)])\n",
        "    output_layer_activation = softmax(preactivation)\n",
        "    activation_preactivation_dictionary['a'+str(L)] = preactivation\n",
        "    activation_preactivation_dictionary['h'+str(L)] = output_layer_activation\n",
        "    return output_layer_activation, activation_preactivation_dictionary"
      ]
    },
    {
      "cell_type": "code",
      "source": [
        "parameters = {'W1' : np.array([[0.2, 0.4, -0.6], [-0.4, 0.3, 0.6], [-0.1, 0.2, 0.4]]), 'W2' : np.array([[-0.1, 0.3, 0.5], [-0.2, 0.6, -0.7]]), 'W3' : np.array([[-0.1, 0.2], [-0.2, 0.1], [0.2, -0.3]]), 'b1': np.array([[0.2], [-0.4], [-0.3]]), 'b2' : np.array([[-0.2], [-0.4]]), 'b3' : np.array([[-0.1], [0.1], [0.2]])}\n",
        "input_vector = np.array([[0.1], [0.5], [0.4]])\n"
      ],
      "metadata": {
        "id": "480M2CP1Pjzx"
      },
      "execution_count": 42,
      "outputs": []
    },
    {
      "cell_type": "code",
      "source": [
        "forward_propagation(input_vector, parameters)"
      ],
      "metadata": {
        "colab": {
          "base_uri": "https://localhost:8080/"
        },
        "id": "BNpYXIJtgZqQ",
        "outputId": "6ceb165a-55f8-4cd0-e426-101f1dbbdfd5"
      },
      "execution_count": 43,
      "outputs": [
        {
          "output_type": "execute_result",
          "data": {
            "text/plain": [
              "(array([[0.2909391 ],\n",
              "        [0.32483713],\n",
              "        [0.38422377]]), {'a1': array([[ 0.18],\n",
              "         [-0.05],\n",
              "         [-0.05]]), 'a2': array([[ 0.13551419],\n",
              "         [-0.55772604]]), 'a3': array([[-0.08056793],\n",
              "         [ 0.02964202],\n",
              "         [ 0.19754323]]), 'h1': array([[0.54487889],\n",
              "         [0.4875026 ],\n",
              "         [0.4875026 ]]), 'h2': array([[0.5338268 ],\n",
              "         [0.36407377]]), 'h3': array([[0.2909391 ],\n",
              "         [0.32483713],\n",
              "         [0.38422377]])})"
            ]
          },
          "metadata": {},
          "execution_count": 43
        }
      ]
    },
    {
      "cell_type": "code",
      "execution_count": 35,
      "metadata": {
        "id": "3IayZ8MErQuU"
      },
      "outputs": [],
      "source": [
        "def cross_entropy(target,output):\n",
        "    return -np.log(np.dot(target,np.transpose(output)))"
      ]
    },
    {
      "cell_type": "code",
      "execution_count": null,
      "metadata": {
        "id": "F4cBNeqH7sZY"
      },
      "outputs": [],
      "source": [
        "def single_layer_backprop_linear(delta_loss,intermediate):\n",
        "    a,w,b = intermediate\n",
        "    delta_w = np.dot(delta_loss,a.T)\n",
        "    delta_b = delta_loss\n",
        "    delta_a = np.dot(w.T,delta_loss)\n",
        "    return delta_a,delta_w,delta_b"
      ]
    },
    {
      "cell_type": "code",
      "execution_count": null,
      "metadata": {
        "id": "lHEj6uCH7sZY"
      },
      "outputs": [],
      "source": [
        "def single_layer_backprop_activation(delta_a,intermediates):\n",
        "    preactivation, intermediate = intermediates\n",
        "    sigmoid = 1/(1+np.exp(-intermediate))\n",
        "    delta_loss = delta_a * sigmoid * (1-sigmoid)\n",
        "    delta_a,delta_w,delta_b = single_layer_backprop_linear(delta_loss,preactivation)\n",
        "    return delta_a,delta_w,delta_b"
      ]
    },
    {
      "cell_type": "code",
      "execution_count": null,
      "metadata": {
        "id": "TXErFPGlpOC-"
      },
      "outputs": [],
      "source": [
        "def backward_propagation(target, output,intermediate):\n",
        "    n = len(intermediate)\n",
        "    derivatives = dict()\n",
        "    delta_output = -target/np.dot(target,np.transpose(output))\n",
        "    interm = intermediate[n-1]\n",
        "    p, i = interm\n",
        "    delta_loss = -(target - output)\n",
        "    derivatives[\"delta_a\" + str(n-1)],derivatives[\"delta_w\" + str(n-1)],derivatives[\"delta_b\" + str(n-1)] = single_layer_backprop_linear(delta_loss,p)\n",
        "    for i in range(L-1,0,-1):\n",
        "        interm = intermediate[l-1]\n",
        "        delta_a_p, delta_w, delta_b = single_layer_backprop_activation(grads[\"delta_a\" + str(l)], interm)\n",
        "        derivatives[\"delta_a\" + str(l-1)] = delta_a_p\n",
        "        derivatives[\"delta_w\" + str(l)] = delta_w\n",
        "        derivatives[\"delta_b\" + str(l)] = delta_b\n",
        "    return derivatives"
      ]
    },
    {
      "cell_type": "code",
      "execution_count": null,
      "metadata": {
        "id": "H6ks4CxZonnf"
      },
      "outputs": [],
      "source": [
        "def update(L,derivatives,lr):\n",
        "    n = len(L) // 2\n",
        "    for i in range(1,n):\n",
        "        L[\"W\" + str(i)] = L[\"W\" + str(i)] - lr * derivatives[\"delta_w\" + str(i)]\n",
        "        L[\"b\" + str(i)] = L[\"b\" + str(i)] - lr * derivatives[\"delta_b\" + str(i)]\n",
        "    return L"
      ]
    },
    {
      "cell_type": "code",
      "execution_count": null,
      "metadata": {
        "id": "pgypSzofooDf"
      },
      "outputs": [],
      "source": [
        ""
      ]
    },
    {
      "cell_type": "code",
      "execution_count": 39,
      "metadata": {
        "colab": {
          "base_uri": "https://localhost:8080/"
        },
        "id": "3fuGko6kooQR",
        "outputId": "f197bc17-2c07-4265-d229-89063f843259"
      },
      "outputs": [
        {
          "output_type": "stream",
          "name": "stdout",
          "text": [
            "train_data shape :  (784, 60000)\n",
            "train_labels shape :  (10, 60000)\n",
            "No. of training examples :  60000\n"
          ]
        }
      ],
      "source": [
        "def model(train_data, train_labels, layers_dimensions):\n",
        "  \n",
        "    parameters = parameter_initialise(layers_dimensions)\n",
        "    print(\"train_data shape : \", np.shape(train_data))\n",
        "    print(\"train_labels shape : \", np.shape(train_labels))\n",
        "    no_of_examples = np.shape(train_data)[1]\n",
        "    print(\"No. of training examples : \", no_of_examples)\n",
        "    # Forward propagation for m training examples\n",
        "    for i in range(no_of_examples):\n",
        "        predictions, cache = forward_propagation(train_data[:, i].reshape(784,1), parameters)\n",
        "        # Can use cache for backprop\n",
        "        loss = cross_entropy(train_labels[:, i], predictions.reshape(10,))\n",
        "        if i == 0:\n",
        "            break\n",
        "\n",
        "model(train_data, train_labels, [784, 5, 10])"
      ]
    },
    {
      "cell_type": "code",
      "execution_count": 31,
      "metadata": {
        "id": "etPl5APP7sZa",
        "colab": {
          "base_uri": "https://localhost:8080/"
        },
        "outputId": "e2a7d93d-94d6-42b5-c39f-73037cb37dd8"
      },
      "outputs": [
        {
          "output_type": "execute_result",
          "data": {
            "text/plain": [
              "2.287659338332931"
            ]
          },
          "metadata": {},
          "execution_count": 31
        }
      ],
      "source": [
        "-np.log(0.10150377)"
      ]
    }
  ],
  "metadata": {
    "colab": {
      "collapsed_sections": [],
      "name": "Copy of CS6910 - Assignment 1.ipynb",
      "provenance": [],
      "include_colab_link": true
    },
    "kernelspec": {
      "display_name": "Python 3 (ipykernel)",
      "language": "python",
      "name": "python3"
    },
    "language_info": {
      "codemirror_mode": {
        "name": "ipython",
        "version": 3
      },
      "file_extension": ".py",
      "mimetype": "text/x-python",
      "name": "python",
      "nbconvert_exporter": "python",
      "pygments_lexer": "ipython3",
      "version": "3.7.10"
    }
  },
  "nbformat": 4,
  "nbformat_minor": 0
}